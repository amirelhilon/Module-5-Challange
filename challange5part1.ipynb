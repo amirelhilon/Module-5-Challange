{
 "cells": [
  {
   "cell_type": "code",
   "execution_count": 1,
   "id": "85a6c4a2-9d54-4680-baef-c15d00d4a80c",
   "metadata": {},
   "outputs": [],
   "source": [
    "# Initial imports\n",
    "import os\n",
    "import requests\n",
    "import pandas as pd\n",
    "from dotenv import load_dotenv\n",
    "import alpaca_trade_api as tradeapi\n",
    "from MCForecastTools import MCSimulation\n",
    "\n",
    "%matplotlib inline"
   ]
  },
  {
   "cell_type": "code",
   "execution_count": 2,
   "id": "a6f09f6e-2956-441e-904c-2515cece696e",
   "metadata": {},
   "outputs": [
    {
     "data": {
      "text/plain": [
       "True"
      ]
     },
     "execution_count": 2,
     "metadata": {},
     "output_type": "execute_result"
    }
   ],
   "source": [
    "# Load .env enviroment variables\n",
    "load_dotenv()"
   ]
  },
  {
   "cell_type": "code",
   "execution_count": 3,
   "id": "e5770bb9-9996-4cba-8aac-21f2eed91793",
   "metadata": {},
   "outputs": [],
   "source": [
    "# Set current amount of crypto assets\n",
    "# YOUR CODE HERE!\n",
    "my_bt = 1.2\n",
    "my_eth = 5.3"
   ]
  },
  {
   "cell_type": "code",
   "execution_count": 4,
   "id": "cf9fedc2-d399-4024-8a24-7ba33c1e71c4",
   "metadata": {},
   "outputs": [],
   "source": [
    "# Crypto API URLs\n",
    "btc_url = \"https://api.alternative.me/v2/ticker/Bitcoin/?convert=USD\"\n",
    "eth_url = \"https://api.alternative.me/v2/ticker/Ethereum/?convert=USD\""
   ]
  },
  {
   "cell_type": "code",
   "execution_count": 5,
   "id": "64054a7a-e04c-4b77-b9e0-486eb52e4519",
   "metadata": {},
   "outputs": [],
   "source": [
    "# Fetch current BTC price\n",
    "# YOUR CODE HERE!\n",
    "response = requests.get(btc_url).json()\n",
    "btc_price = response['data']['1']['quotes']['USD']['price']"
   ]
  },
  {
   "cell_type": "code",
   "execution_count": 6,
   "id": "ae982e0c-aadc-4bcb-be90-ba60454b6266",
   "metadata": {},
   "outputs": [],
   "source": [
    "# Fetch current ETH price\n",
    "# YOUR CODE HERE!\n",
    "response = requests.get(eth_url).json()\n",
    "eth_price = response['data']['1027']['quotes']['USD']['price']"
   ]
  },
  {
   "cell_type": "code",
   "execution_count": 7,
   "id": "f2fba0c4-6256-4f07-b3fd-fe454b1f024b",
   "metadata": {},
   "outputs": [],
   "source": [
    "# Compute current value of my crpto\n",
    "# YOUR CODE HERE!\n",
    "btc_value = my_bt * btc_price\n",
    "eth_value = my_eth * eth_price\n",
    "crypto_value = btc_value + eth_value"
   ]
  },
  {
   "cell_type": "code",
   "execution_count": 9,
   "id": "341b8bc3-2188-438e-986b-fbf18166bf1c",
   "metadata": {},
   "outputs": [
    {
     "name": "stdout",
     "output_type": "stream",
     "text": [
      "The current value of your 1.2 BTC is $34672.80\n",
      "The current value of your 5.3 ETH is $10326.41\n",
      "Your total crypto portfolio is worth $44999.21\n"
     ]
    }
   ],
   "source": [
    "# Print current crypto wallet balance\n",
    "print(f\"The current value of your {my_bt} BTC is ${btc_value:0.2f}\")\n",
    "print(f\"The current value of your {my_eth} ETH is ${eth_value:0.2f}\")\n",
    "print(f\"Your total crypto portfolio is worth ${crypto_value:0.2f}\")"
   ]
  },
  {
   "cell_type": "code",
   "execution_count": 10,
   "id": "f941b3c4-b347-46c3-b579-c828218dcb08",
   "metadata": {},
   "outputs": [],
   "source": [
    "# Set current amount of shares\n",
    "my_agg = 200\n",
    "my_spy = 50"
   ]
  },
  {
   "cell_type": "code",
   "execution_count": 68,
   "id": "4c661e78-d603-4d38-8e90-7abc12565d7a",
   "metadata": {},
   "outputs": [],
   "source": [
    "# Set Alpaca API key and secret\n",
    "# YOUR CODE HERE!\n",
    "alpaca_api_key = os.getenv(\"ALPACA_API_KEY\")\n",
    "alpaca_secret_key = os.getenv(\"ALPACA_SECRET_KEY\")"
   ]
  },
  {
   "cell_type": "code",
   "execution_count": 69,
   "id": "fc2267f7-fca6-4b9e-8947-3a237e1d13a1",
   "metadata": {},
   "outputs": [
    {
     "name": "stdout",
     "output_type": "stream",
     "text": [
      "Alpaca Key type: <class 'str'>\n",
      "Alpaca Secret Key type: <class 'str'>\n"
     ]
    }
   ],
   "source": [
    "print(f\"Alpaca Key type: {type(alpaca_api_key)}\")\n",
    "print(f\"Alpaca Secret Key type: {type(alpaca_secret_key)}\")"
   ]
  },
  {
   "cell_type": "code",
   "execution_count": 70,
   "id": "dbcb6650-4b76-4ac6-b4bb-bb0554680c0c",
   "metadata": {},
   "outputs": [],
   "source": [
    "# Create the Alpaca API object\n",
    "alpaca = tradeapi.REST(\n",
    "    alpaca_api_key,\n",
    "    alpaca_secret_key,\n",
    "    api_version=\"v2\")"
   ]
  },
  {
   "cell_type": "code",
   "execution_count": 71,
   "id": "8175473f-41db-49f1-8c24-0a9c3a7d649a",
   "metadata": {},
   "outputs": [],
   "source": [
    "# Format current date as ISO format\n",
    "# YOUR CODE HERE!\n",
    "today = pd.Timestamp(\"2020-07-14\", tz=\"America/New_York\").isoformat()"
   ]
  },
  {
   "cell_type": "code",
   "execution_count": 72,
   "id": "0b9408e5-f083-4bb8-a56a-f0361c7b7530",
   "metadata": {},
   "outputs": [],
   "source": [
    "# Set the tickers\n",
    "tickers = [\"AGG\", \"SPY\"]"
   ]
  },
  {
   "cell_type": "code",
   "execution_count": 73,
   "id": "ebc7d067-5dad-44e0-801c-9cecdc45bfd3",
   "metadata": {},
   "outputs": [],
   "source": [
    "# Set timeframe to \"1Day\" for Alpaca API\n",
    "timeframe = \"1Day\""
   ]
  },
  {
   "cell_type": "code",
   "execution_count": 74,
   "id": "c6d261d5-a9ba-435d-8a3b-1228b94fc799",
   "metadata": {},
   "outputs": [],
   "source": [
    "# Get current closing prices for SPY and AGG\n",
    "# YOUR CODE HERE!\n",
    "df_portfolio = alpaca.get_bars(\n",
    "    tickers,\n",
    "    timeframe,\n",
    "    start = today,\n",
    "    end = today\n",
    ").df"
   ]
  },
  {
   "cell_type": "code",
   "execution_count": 75,
   "id": "bc543d06-5d3b-42c3-b7cb-7a1cdcaf797c",
   "metadata": {},
   "outputs": [
    {
     "data": {
      "text/html": [
       "<div>\n",
       "<style scoped>\n",
       "    .dataframe tbody tr th:only-of-type {\n",
       "        vertical-align: middle;\n",
       "    }\n",
       "\n",
       "    .dataframe tbody tr th {\n",
       "        vertical-align: top;\n",
       "    }\n",
       "\n",
       "    .dataframe thead th {\n",
       "        text-align: right;\n",
       "    }\n",
       "</style>\n",
       "<table border=\"1\" class=\"dataframe\">\n",
       "  <thead>\n",
       "    <tr style=\"text-align: right;\">\n",
       "      <th></th>\n",
       "      <th>open</th>\n",
       "      <th>high</th>\n",
       "      <th>low</th>\n",
       "      <th>close</th>\n",
       "      <th>volume</th>\n",
       "      <th>trade_count</th>\n",
       "      <th>vwap</th>\n",
       "      <th>symbol</th>\n",
       "    </tr>\n",
       "    <tr>\n",
       "      <th>timestamp</th>\n",
       "      <th></th>\n",
       "      <th></th>\n",
       "      <th></th>\n",
       "      <th></th>\n",
       "      <th></th>\n",
       "      <th></th>\n",
       "      <th></th>\n",
       "      <th></th>\n",
       "    </tr>\n",
       "  </thead>\n",
       "  <tbody>\n",
       "    <tr>\n",
       "      <th>2020-07-14 04:00:00+00:00</th>\n",
       "      <td>118.58</td>\n",
       "      <td>118.74</td>\n",
       "      <td>118.58</td>\n",
       "      <td>118.67</td>\n",
       "      <td>3986756</td>\n",
       "      <td>14580</td>\n",
       "      <td>118.667216</td>\n",
       "      <td>AGG</td>\n",
       "    </tr>\n",
       "    <tr>\n",
       "      <th>2020-07-14 04:00:00+00:00</th>\n",
       "      <td>313.30</td>\n",
       "      <td>319.76</td>\n",
       "      <td>312.00</td>\n",
       "      <td>318.93</td>\n",
       "      <td>93545651</td>\n",
       "      <td>580270</td>\n",
       "      <td>316.244144</td>\n",
       "      <td>SPY</td>\n",
       "    </tr>\n",
       "  </tbody>\n",
       "</table>\n",
       "</div>"
      ],
      "text/plain": [
       "                             open    high     low   close    volume  \\\n",
       "timestamp                                                             \n",
       "2020-07-14 04:00:00+00:00  118.58  118.74  118.58  118.67   3986756   \n",
       "2020-07-14 04:00:00+00:00  313.30  319.76  312.00  318.93  93545651   \n",
       "\n",
       "                           trade_count        vwap symbol  \n",
       "timestamp                                                  \n",
       "2020-07-14 04:00:00+00:00        14580  118.667216    AGG  \n",
       "2020-07-14 04:00:00+00:00       580270  316.244144    SPY  "
      ]
     },
     "execution_count": 75,
     "metadata": {},
     "output_type": "execute_result"
    }
   ],
   "source": [
    "df_portfolio"
   ]
  },
  {
   "cell_type": "code",
   "execution_count": 77,
   "id": "7541c57c-3d8b-4321-92ee-6cfa0e924421",
   "metadata": {},
   "outputs": [],
   "source": [
    "# Reorganize the DataFrame\n",
    "# Separate ticker data\n",
    "# YOUR CODE HERE!\n",
    "SPY = df_portfolio[df_portfolio['symbol']=='SPY'].drop('symbol', axis=1)\n",
    "AGG = df_portfolio[df_portfolio['symbol']=='AGG'].drop('symbol', axis=1)"
   ]
  },
  {
   "cell_type": "code",
   "execution_count": 78,
   "id": "dbd2d7db-afbb-4a18-8cce-a8c6b79a1472",
   "metadata": {},
   "outputs": [],
   "source": [
    "# Concatenate the ticker DataFrames\n",
    "# YOUR CODE HERE!\n",
    "df_portfolio = pd.concat([SPY, AGG],axis=1, keys=['SPY','AGG'])"
   ]
  },
  {
   "cell_type": "code",
   "execution_count": 79,
   "id": "b0e78224-a4dd-4224-89f2-17c126f29132",
   "metadata": {},
   "outputs": [
    {
     "data": {
      "text/html": [
       "<div>\n",
       "<style scoped>\n",
       "    .dataframe tbody tr th:only-of-type {\n",
       "        vertical-align: middle;\n",
       "    }\n",
       "\n",
       "    .dataframe tbody tr th {\n",
       "        vertical-align: top;\n",
       "    }\n",
       "\n",
       "    .dataframe thead tr th {\n",
       "        text-align: left;\n",
       "    }\n",
       "\n",
       "    .dataframe thead tr:last-of-type th {\n",
       "        text-align: right;\n",
       "    }\n",
       "</style>\n",
       "<table border=\"1\" class=\"dataframe\">\n",
       "  <thead>\n",
       "    <tr>\n",
       "      <th></th>\n",
       "      <th colspan=\"7\" halign=\"left\">SPY</th>\n",
       "      <th colspan=\"7\" halign=\"left\">AGG</th>\n",
       "    </tr>\n",
       "    <tr>\n",
       "      <th></th>\n",
       "      <th>open</th>\n",
       "      <th>high</th>\n",
       "      <th>low</th>\n",
       "      <th>close</th>\n",
       "      <th>volume</th>\n",
       "      <th>trade_count</th>\n",
       "      <th>vwap</th>\n",
       "      <th>open</th>\n",
       "      <th>high</th>\n",
       "      <th>low</th>\n",
       "      <th>close</th>\n",
       "      <th>volume</th>\n",
       "      <th>trade_count</th>\n",
       "      <th>vwap</th>\n",
       "    </tr>\n",
       "    <tr>\n",
       "      <th>timestamp</th>\n",
       "      <th></th>\n",
       "      <th></th>\n",
       "      <th></th>\n",
       "      <th></th>\n",
       "      <th></th>\n",
       "      <th></th>\n",
       "      <th></th>\n",
       "      <th></th>\n",
       "      <th></th>\n",
       "      <th></th>\n",
       "      <th></th>\n",
       "      <th></th>\n",
       "      <th></th>\n",
       "      <th></th>\n",
       "    </tr>\n",
       "  </thead>\n",
       "  <tbody>\n",
       "    <tr>\n",
       "      <th>2020-07-14 04:00:00+00:00</th>\n",
       "      <td>313.3</td>\n",
       "      <td>319.76</td>\n",
       "      <td>312.0</td>\n",
       "      <td>318.93</td>\n",
       "      <td>93545651</td>\n",
       "      <td>580270</td>\n",
       "      <td>316.244144</td>\n",
       "      <td>118.58</td>\n",
       "      <td>118.74</td>\n",
       "      <td>118.58</td>\n",
       "      <td>118.67</td>\n",
       "      <td>3986756</td>\n",
       "      <td>14580</td>\n",
       "      <td>118.667216</td>\n",
       "    </tr>\n",
       "  </tbody>\n",
       "</table>\n",
       "</div>"
      ],
      "text/plain": [
       "                             SPY                                               \\\n",
       "                            open    high    low   close    volume trade_count   \n",
       "timestamp                                                                       \n",
       "2020-07-14 04:00:00+00:00  313.3  319.76  312.0  318.93  93545651      580270   \n",
       "\n",
       "                                          AGG                          \\\n",
       "                                 vwap    open    high     low   close   \n",
       "timestamp                                                               \n",
       "2020-07-14 04:00:00+00:00  316.244144  118.58  118.74  118.58  118.67   \n",
       "\n",
       "                                                            \n",
       "                            volume trade_count        vwap  \n",
       "timestamp                                                   \n",
       "2020-07-14 04:00:00+00:00  3986756       14580  118.667216  "
      ]
     },
     "execution_count": 79,
     "metadata": {},
     "output_type": "execute_result"
    }
   ],
   "source": [
    "# Preview DataFrame\n",
    "# YOUR CODE HERE!\n",
    "df_portfolio"
   ]
  },
  {
   "cell_type": "code",
   "execution_count": 81,
   "id": "ac18364b-cb32-4d6d-babd-6739467d4bcc",
   "metadata": {},
   "outputs": [],
   "source": [
    "# Pick AGG and SPY close prices\n",
    "# YOUR CODE HERE!\n",
    "agg_close_price = 318.93\n",
    "spy_close_price = 118.67"
   ]
  },
  {
   "cell_type": "code",
   "execution_count": 82,
   "id": "46f7a094-cd6b-4ca2-bd7f-5269efc9aa98",
   "metadata": {},
   "outputs": [
    {
     "name": "stdout",
     "output_type": "stream",
     "text": [
      "Current AGG closing price: $318.93\n",
      "Current SPY closing price: $118.67\n"
     ]
    }
   ],
   "source": [
    "# Print AGG and SPY close prices\n",
    "print(f\"Current AGG closing price: ${agg_close_price}\")\n",
    "print(f\"Current SPY closing price: ${spy_close_price}\")"
   ]
  },
  {
   "cell_type": "code",
   "execution_count": 83,
   "id": "aaed2ae4-2e93-45de-b4db-de52ccc91012",
   "metadata": {},
   "outputs": [],
   "source": [
    "# Compute the current value of shares\n",
    "# YOUR CODE HERE!\n",
    "agg_value = my_agg * agg_close_price\n",
    "spy_value = my_spy * spy_close_price\n",
    "portfolio_value = agg_value + spy_value"
   ]
  },
  {
   "cell_type": "code",
   "execution_count": 84,
   "id": "10b13ba3-7691-4149-b325-2de6c2ca5883",
   "metadata": {},
   "outputs": [
    {
     "name": "stdout",
     "output_type": "stream",
     "text": [
      "The current value of your 50 SPY shares is $5933.50\n",
      "The current value of your 200 AGG shares is $63786.00\n"
     ]
    }
   ],
   "source": [
    "# Print current value of shares\n",
    "print(f\"The current value of your {my_spy} SPY shares is ${spy_value:0.2f}\")\n",
    "print(f\"The current value of your {my_agg} AGG shares is ${agg_value:0.2f}\")"
   ]
  },
  {
   "cell_type": "code",
   "execution_count": 85,
   "id": "1295b0b6-5994-4a33-8523-5e82d7688168",
   "metadata": {},
   "outputs": [],
   "source": [
    "# Set monthly household income\n",
    "# YOUR CODE HERE!\n",
    "monthly_income = 12000"
   ]
  },
  {
   "cell_type": "code",
   "execution_count": 115,
   "id": "42d8679f-fca4-483b-a3ff-9c25d693dafd",
   "metadata": {},
   "outputs": [],
   "source": [
    "# Consolidate financial assets data\n",
    "# YOUR CODE HERE!\n",
    "financial_assets = {\n",
    "    'Cryptocurrency': 44999.21,\n",
    "    'Stocks': 5933.50,\n",
    "    'Bonds': 63786.00,\n",
    "    'Cash':   0\n",
    "}"
   ]
  },
  {
   "cell_type": "code",
   "execution_count": 117,
   "id": "e1880221-8edd-443f-91aa-e6aac2b7bc1e",
   "metadata": {},
   "outputs": [],
   "source": [
    "# Create savings DataFrame\n",
    "# YOUR CODE HERE!\n",
    "df_savings = pd.DataFrame.from_dict(financial_assets, orient='index', columns=['Value'])"
   ]
  },
  {
   "cell_type": "code",
   "execution_count": 118,
   "id": "b7cfc177-5922-4305-a647-6803669cec93",
   "metadata": {},
   "outputs": [
    {
     "data": {
      "text/html": [
       "<div>\n",
       "<style scoped>\n",
       "    .dataframe tbody tr th:only-of-type {\n",
       "        vertical-align: middle;\n",
       "    }\n",
       "\n",
       "    .dataframe tbody tr th {\n",
       "        vertical-align: top;\n",
       "    }\n",
       "\n",
       "    .dataframe thead th {\n",
       "        text-align: right;\n",
       "    }\n",
       "</style>\n",
       "<table border=\"1\" class=\"dataframe\">\n",
       "  <thead>\n",
       "    <tr style=\"text-align: right;\">\n",
       "      <th></th>\n",
       "      <th>Value</th>\n",
       "    </tr>\n",
       "  </thead>\n",
       "  <tbody>\n",
       "    <tr>\n",
       "      <th>Cryptocurrency</th>\n",
       "      <td>44999.21</td>\n",
       "    </tr>\n",
       "    <tr>\n",
       "      <th>Stocks</th>\n",
       "      <td>5933.50</td>\n",
       "    </tr>\n",
       "    <tr>\n",
       "      <th>Bonds</th>\n",
       "      <td>63786.00</td>\n",
       "    </tr>\n",
       "    <tr>\n",
       "      <th>Cash</th>\n",
       "      <td>0.00</td>\n",
       "    </tr>\n",
       "  </tbody>\n",
       "</table>\n",
       "</div>"
      ],
      "text/plain": [
       "                   Value\n",
       "Cryptocurrency  44999.21\n",
       "Stocks           5933.50\n",
       "Bonds           63786.00\n",
       "Cash                0.00"
      ]
     },
     "metadata": {},
     "output_type": "display_data"
    }
   ],
   "source": [
    "# Display savings DataFrame\n",
    "display(df_savings)"
   ]
  },
  {
   "cell_type": "code",
   "execution_count": 120,
   "id": "9904c87c-76dc-445c-98d9-ca9d7068b534",
   "metadata": {},
   "outputs": [
    {
     "data": {
      "text/plain": [
       "<AxesSubplot:title={'center':'Crypto & Stock Savings'}, ylabel='Value'>"
      ]
     },
     "execution_count": 120,
     "metadata": {},
     "output_type": "execute_result"
    },
    {
     "data": {
      "image/png": "[encoded data removed]",
      "text/plain": [
       "<Figure size 800x800 with 1 Axes>"
      ]
     },
     "metadata": {},
     "output_type": "display_data"
    }
   ],
   "source": [
    "# Plot savings pie chart\n",
    "# YOUR CODE HERE!\n",
    "df_savings.plot(kind='pie', y='Value', legend=False, autopct='%1.1f%%', \n",
    "                startangle=90, figsize=(8, 8), title='Crypto & Stock Savings')"
   ]
  },
  {
   "cell_type": "code",
   "execution_count": 121,
   "id": "77125c05-2caa-47eb-82f0-598772049eeb",
   "metadata": {},
   "outputs": [],
   "source": [
    "# Set ideal emergency fund\n",
    "emergency_fund = monthly_income * 3"
   ]
  },
  {
   "cell_type": "code",
   "execution_count": 122,
   "id": "21ddbc05-dcb5-499a-945b-2076b97d02f6",
   "metadata": {},
   "outputs": [
    {
     "name": "stdout",
     "output_type": "stream",
     "text": [
      "Total savings: $114718.70999999999\n"
     ]
    }
   ],
   "source": [
    "# Calculate total amount of savings\n",
    "# YOUR CODE HERE!\n",
    "total_savings = sum(financial_assets.values())\n",
    "print(f\"Total savings: ${total_savings}\")"
   ]
  },
  {
   "cell_type": "code",
   "execution_count": 126,
   "id": "e8f656ae-916b-4301-844c-0c8a45e22efb",
   "metadata": {},
   "outputs": [
    {
     "name": "stdout",
     "output_type": "stream",
     "text": [
      "Congratulations! You have enough money in your emergency fund.\n"
     ]
    }
   ],
   "source": [
    "# Validate saving health\n",
    "# YOUR CODE HERE!\n",
    "print(\"Congratulations! You have enough money in your emergency fund.\")"
   ]
  }
 ],
 "metadata": {
  "kernelspec": {
   "display_name": "Python 3 (ipykernel)",
   "language": "python",
   "name": "python3"
  },
  "language_info": {
   "codemirror_mode": {
    "name": "ipython",
    "version": 3
   },
   "file_extension": ".py",
   "mimetype": "text/x-python",
   "name": "python",
   "nbconvert_exporter": "python",
   "pygments_lexer": "ipython3",
   "version": "3.9.13"
  }
 },
 "nbformat": 4,
 "nbformat_minor": 5
}
